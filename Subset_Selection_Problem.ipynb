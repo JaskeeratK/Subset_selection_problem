{
  "nbformat": 4,
  "nbformat_minor": 0,
  "metadata": {
    "colab": {
      "provenance": [],
      "authorship_tag": "ABX9TyNT6A57owYKddgdFC3BKN36",
      "include_colab_link": true
    },
    "kernelspec": {
      "name": "python3",
      "display_name": "Python 3"
    },
    "language_info": {
      "name": "python"
    }
  },
  "cells": [
    {
      "cell_type": "markdown",
      "metadata": {
        "id": "view-in-github",
        "colab_type": "text"
      },
      "source": [
        "<a href=\"https://colab.research.google.com/github/JaskeeratK/Subset_selection_problem/blob/main/Subset_Selection_Problem.ipynb\" target=\"_parent\"><img src=\"https://colab.research.google.com/assets/colab-badge.svg\" alt=\"Open In Colab\"/></a>"
      ]
    },
    {
      "cell_type": "code",
      "execution_count": 1,
      "metadata": {
        "id": "kTV4MJjdezXs"
      },
      "outputs": [],
      "source": [
        "# Find all the subsets from a set of numbers whose sum is zero.\n",
        "# Constraint: Subset size must be 5\n",
        "# Set={-12, -3, -6, 7, 2, -2, 6, 3, 9, -7, -5, -8, 1, 11, -9, -4}\n"
      ]
    },
    {
      "cell_type": "code",
      "source": [
        "import random as r\n",
        "Set=[-12, -3, -6, 7, 2, -2, 6, 3, 9, -7, -5, -8, 1, 11, -9, -4]\n",
        "set_size=5\n",
        "res=set()\n",
        "iterations=1000\n",
        "for _ in range(iterations):\n",
        "  chr=r.sample(Set,set_size)\n",
        "  if sum(chr)==0:\n",
        "    res.add(tuple(sorted(chr)))"
      ],
      "metadata": {
        "id": "BUdnUmYbhJ-X"
      },
      "execution_count": 7,
      "outputs": []
    },
    {
      "cell_type": "code",
      "source": [
        "for r in res:\n",
        "  print(r,'\\n')"
      ],
      "metadata": {
        "colab": {
          "base_uri": "https://localhost:8080/"
        },
        "id": "DZWhvMfojNF7",
        "outputId": "63ec1e30-0688-4188-f162-2794df46a8d2"
      },
      "execution_count": 8,
      "outputs": [
        {
          "output_type": "stream",
          "name": "stdout",
          "text": [
            "(-12, -6, 2, 7, 9) \n",
            "\n",
            "(-8, -6, 1, 6, 7) \n",
            "\n",
            "(-9, -2, 2, 3, 6) \n",
            "\n",
            "(-7, -6, -2, 6, 9) \n",
            "\n",
            "(-9, -5, 2, 3, 9) \n",
            "\n",
            "(-9, -4, -3, 7, 9) \n",
            "\n",
            "(-12, -4, 2, 3, 11) \n",
            "\n",
            "(-7, -3, -2, 3, 9) \n",
            "\n",
            "(-4, -2, 1, 2, 3) \n",
            "\n",
            "(-12, -7, 2, 6, 11) \n",
            "\n",
            "(-12, -2, 2, 3, 9) \n",
            "\n",
            "(-6, -5, 2, 3, 6) \n",
            "\n",
            "(-12, -8, 3, 6, 11) \n",
            "\n",
            "(-8, -4, 2, 3, 7) \n",
            "\n",
            "(-8, -7, -5, 9, 11) \n",
            "\n",
            "(-7, -6, -3, 7, 9) \n",
            "\n",
            "(-7, -3, -2, 1, 11) \n",
            "\n",
            "(-6, -3, -2, 2, 9) \n",
            "\n",
            "(-12, -4, 3, 6, 7) \n",
            "\n",
            "(-8, -3, 2, 3, 6) \n",
            "\n",
            "(-9, -6, 2, 6, 7) \n",
            "\n",
            "(-9, -4, -2, 6, 9) \n",
            "\n",
            "(-12, -9, 3, 7, 11) \n",
            "\n",
            "(-7, -6, -5, 7, 11) \n",
            "\n",
            "(-6, -5, -2, 6, 7) \n",
            "\n",
            "(-9, -3, -2, 3, 11) \n",
            "\n",
            "(-8, -5, -3, 7, 9) \n",
            "\n"
          ]
        }
      ]
    },
    {
      "cell_type": "code",
      "source": [
        "# Find all the subsets from a set of numbers whose sum is zero.\n",
        "# Constraint: Subset size must be 3 to 6 only\n",
        "# Set={-12, -3, -6, 7, 2, -2, 6, 3, 9, -7, -5, -8, 1, 11, -9, -4}"
      ],
      "metadata": {
        "id": "JBpx8hXhjVMO"
      },
      "execution_count": 12,
      "outputs": []
    },
    {
      "cell_type": "code",
      "source": [
        "import random as r\n",
        "Set=[-12, -3, -6, 7, 2, -2, 6, 3, 9, -7, -5, -8, 1, 11, -9, -4]\n",
        "res=set()\n",
        "iterations=1000\n",
        "for _ in range(iterations):\n",
        "  set_size=r.randint(3,6)\n",
        "  chr=r.sample(Set,set_size)\n",
        "  if sum(chr)==0:\n",
        "    res.add(tuple(sorted(chr)))"
      ],
      "metadata": {
        "id": "qc8MbmQ7jpy_"
      },
      "execution_count": 11,
      "outputs": []
    },
    {
      "cell_type": "code",
      "source": [
        "for r in res:\n",
        "  print(r,'\\n')"
      ],
      "metadata": {
        "colab": {
          "base_uri": "https://localhost:8080/"
        },
        "id": "eE93x-DfkV9P",
        "outputId": "17d2b5d4-0a61-4c63-e1eb-3686ae9e3e03"
      },
      "execution_count": 13,
      "outputs": [
        {
          "output_type": "stream",
          "name": "stdout",
          "text": [
            "(-12, -6, 3, 6, 9) \n",
            "\n",
            "(-3, -2, 2, 3) \n",
            "\n",
            "(-12, -5, -4, 1, 9, 11) \n",
            "\n",
            "(-9, 2, 7) \n",
            "\n",
            "(-7, -4, -3, 3, 11) \n",
            "\n",
            "(-5, -4, -3, 1, 11) \n",
            "\n",
            "(-5, 2, 3) \n",
            "\n",
            "(-6, -5, -4, 1, 3, 11) \n",
            "\n",
            "(-8, -6, -2, 7, 9) \n",
            "\n",
            "(-4, 1, 3) \n",
            "\n",
            "(-4, -2, 1, 2, 3) \n",
            "\n",
            "(-6, -4, 1, 9) \n",
            "\n",
            "(-9, -4, 2, 11) \n",
            "\n",
            "(-8, -2, 1, 9) \n",
            "\n",
            "(-8, 2, 6) \n",
            "\n",
            "(-6, -3, 3, 6) \n",
            "\n",
            "(-4, -3, -2, 1, 2, 6) \n",
            "\n",
            "(-12, -2, 1, 2, 11) \n",
            "\n",
            "(-9, -6, -2, 1, 7, 9) \n",
            "\n",
            "(-9, -6, 6, 9) \n",
            "\n",
            "(-5, -2, 7) \n",
            "\n",
            "(-8, -4, 2, 3, 7) \n",
            "\n",
            "(-4, -3, -2, 2, 7) \n",
            "\n",
            "(-8, -5, 2, 11) \n",
            "\n",
            "(-12, -5, -3, 3, 6, 11) \n",
            "\n",
            "(-8, -7, 6, 9) \n",
            "\n",
            "(-8, -4, 3, 9) \n",
            "\n",
            "(-7, -6, -3, 1, 6, 9) \n",
            "\n",
            "(-5, -4, -3, 3, 9) \n",
            "\n",
            "(-7, 1, 6) \n",
            "\n",
            "(-4, -3, 7) \n",
            "\n",
            "(-8, -3, 11) \n",
            "\n",
            "(-9, -5, -2, 3, 6, 7) \n",
            "\n",
            "(-5, -4, 9) \n",
            "\n"
          ]
        }
      ]
    }
  ]
}